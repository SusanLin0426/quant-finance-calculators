{
 "cells": [
  {
   "cell_type": "markdown",
   "metadata": {},
   "source": [
    "Assignment 1_Code  \n",
    "\n",
    "R12723006  財金碩一 林姝延\n"
   ]
  },
  {
   "cell_type": "markdown",
   "metadata": {},
   "source": [
    "Q1"
   ]
  },
  {
   "cell_type": "code",
   "execution_count": 1,
   "metadata": {},
   "outputs": [],
   "source": [
    "import math\n",
    "import statistics\n",
    "import numpy as np\n",
    "import scipy.stats as stats"
   ]
  },
  {
   "cell_type": "code",
   "execution_count": 2,
   "metadata": {},
   "outputs": [],
   "source": [
    "def N(x):\n",
    "    return stats.norm.cdf(x)\n",
    "def ln(x):\n",
    "    return math.log(x)\n",
    "def e(x):\n",
    "    return math.exp(x)"
   ]
  },
  {
   "cell_type": "code",
   "execution_count": 15,
   "metadata": {},
   "outputs": [],
   "source": [
    "S0 = 100\n",
    "r = 0.05\n",
    "q = 0.02\n",
    "sigma = 0.5\n",
    "T = 0.4\n",
    "K1 = 90\n",
    "K2 = 98\n",
    "K3 = 102\n",
    "K4 = 110"
   ]
  },
  {
   "cell_type": "code",
   "execution_count": 16,
   "metadata": {},
   "outputs": [],
   "source": [
    "d1 = (ln(S0/K1)+(r-q+0.5*sigma**2)*T)/(sigma * T**0.5)\n",
    "d1_ = d1 - sigma * T**0.5\n",
    "d2 = (ln(S0/K2)+(r-q+0.5*sigma**2)*T)/(sigma * T**0.5)\n",
    "d2_ = d2 - sigma * T**0.5\n",
    "d3 = (ln(S0/K3)+(r-q+0.5*sigma**2)*T)/(sigma * T**0.5)\n",
    "d3_ = d3 - sigma * T**0.5\n",
    "d4 = (ln(S0/K4)+(r-q+0.5*sigma**2)*T)/(sigma * T**0.5)\n",
    "d4_ = d4 - sigma * T**0.5"
   ]
  },
  {
   "cell_type": "code",
   "execution_count": 17,
   "metadata": {},
   "outputs": [],
   "source": [
    "C = S0*e(-q * T)*(N(d1)-N(d2)) \\\n",
    "    - K1*e(-r*T)*(N(d1_)-N(d2_)) \\\n",
    "    + K2*e(-r*T)*(N(d2_)-N(d3_)) \\\n",
    "    - K1*e(-r*T)*(N(d2_)-N(d3_)) \\\n",
    "    + ((K2-K1)/(K4-K3)*K4*e(-r*T))*(N(d3_)-N(d4_)) \\\n",
    "    - (K2-K1)/(K4-K3)*S0*e(-q*T)*(N(d3)-N(d4))"
   ]
  },
  {
   "cell_type": "code",
   "execution_count": 18,
   "metadata": {},
   "outputs": [
    {
     "name": "stdout",
     "output_type": "stream",
     "text": [
      "S0 = 100\n",
      "r = 0.05\n",
      "q = 0.02\n",
      "sigma = 0.5\n",
      "T = 0.4\n",
      "K1 = 90\n",
      "K2 = 98\n",
      "K3 = 102\n",
      "K4 = 110\n",
      "\n",
      "C = 1.1717\n"
     ]
    }
   ],
   "source": [
    "# Output the answer\n",
    "print(f\"S0 = {S0}\" + \"\\n\" \\\n",
    "f\"r = {r}\" + \"\\n\" \\\n",
    "f\"q = {q}\" + \"\\n\" \\\n",
    "f\"sigma = {sigma}\" + \"\\n\" \\\n",
    "f\"T = {T}\" + \"\\n\"\\\n",
    "f\"K1 = {K1}\" + \"\\n\"\\\n",
    "f\"K2 = {K2}\"  + \"\\n\"\\\n",
    "f\"K3 = {K3}\" + \"\\n\"\\\n",
    "f\"K4 = {K4}\" \"\\n\" +\"\\n\"\\\n",
    "f\"C = {round(C,4)}\")"
   ]
  },
  {
   "cell_type": "markdown",
   "metadata": {},
   "source": [
    "Q2"
   ]
  },
  {
   "cell_type": "code",
   "execution_count": 19,
   "metadata": {},
   "outputs": [],
   "source": [
    "payoff_list = []\n",
    "option_price_list = []"
   ]
  },
  {
   "cell_type": "code",
   "execution_count": 20,
   "metadata": {},
   "outputs": [],
   "source": [
    "for j in range(20):\n",
    "    # generate 10000 random payoff values\n",
    "    for i in range(10000):  \n",
    "        nd = np.random.normal()\n",
    "        ST = e(ln(S0)+(r-q-0.5*(sigma**2))*T + math.sqrt(T) * nd * sigma)\n",
    "        # get payoff of each ST\n",
    "        if K1 < ST <= K2:\n",
    "            payoff = e(-r*T)*(ST-K1)\n",
    "        elif K2 < ST <= K3:\n",
    "            payoff = e(-r*T)*(K2-K1)\n",
    "        elif K3 < ST <+ K4:\n",
    "            payoff = e(-r*T)*((K2-K1)/(K4-K3)*(K4-ST))\n",
    "        else:\n",
    "            payoff = 0\n",
    "        payoff_list.append(payoff)  \n",
    "    # get option prices, which are the mean of 10000 payoff values\n",
    "    option_price = statistics.mean(payoff_list)  \n",
    "    option_price_list.append(option_price)  "
   ]
  },
  {
   "cell_type": "code",
   "execution_count": 21,
   "metadata": {},
   "outputs": [],
   "source": [
    "mean= statistics.mean(option_price_list)\n",
    "sd = statistics.pstdev(option_price_list)"
   ]
  },
  {
   "cell_type": "code",
   "execution_count": 22,
   "metadata": {},
   "outputs": [
    {
     "name": "stdout",
     "output_type": "stream",
     "text": [
      "mean: 1.1624\n",
      "standard deviation: 0.0048\n",
      "95% confidence interval: [1.1528, 1.1719]\n"
     ]
    }
   ],
   "source": [
    "lower_bound = mean - 2 * sd\n",
    "upper_bound = mean + 2 * sd\n",
    "\n",
    "print(f\"mean: {round(mean,4)}\")\n",
    "print(f\"standard deviation: {round(sd,4)}\")\n",
    "print(f\"95% confidence interval: [{round(lower_bound,4)}, {round(upper_bound,4)}]\")"
   ]
  },
  {
   "cell_type": "code",
   "execution_count": null,
   "metadata": {},
   "outputs": [],
   "source": []
  },
  {
   "cell_type": "code",
   "execution_count": 1,
   "metadata": {},
   "outputs": [
    {
     "name": "stdout",
     "output_type": "stream",
     "text": [
      "S0 = 100.0\n",
      "r = 0.05\n",
      "q = 0.02\n",
      "sigma = 0.5\n",
      "T = 0.4\n",
      "K = 98.0\n",
      "Option type = Put\n",
      "\n",
      "Option price = 10.7569\n"
     ]
    }
   ],
   "source": [
    "import math\n",
    "import scipy.stats as stats\n",
    "\n",
    "def N(x):\n",
    "    return stats.norm.cdf(x)\n",
    "\n",
    "def ln(x):\n",
    "    return math.log(x)\n",
    "\n",
    "def e(x):\n",
    "    return math.exp(x)\n",
    "\n",
    "S0 = float(input(\"Enter the current stock price (S0): \"))\n",
    "r = float(input(\"Enter the risk-free interest rate (r): \"))\n",
    "q = float(input(\"Enter the continuous dividend yield (q): \"))\n",
    "sigma = float(input(\"Enter the volatility (sigma): \"))\n",
    "T = float(input(\"Enter the time to maturity in years (T): \"))\n",
    "K = float(input(\"Enter the strike price (K): \"))\n",
    "option_type = input(\"Enter option type (call/put): \").strip().lower()\n",
    "\n",
    "d1 = (ln(S0/K) + (r - q + 0.5 * sigma**2) * T) / (sigma * T**0.5)\n",
    "d2 = d1 - sigma * T**0.5\n",
    "\n",
    "if option_type == 'call':\n",
    "    option_price = S0 * e(-q * T) * N(d1) - K * e(-r * T) * N(d2)\n",
    "elif option_type == 'put':\n",
    "    option_price = K * e(-r * T) * N(-d2) - S0 * e(-q * T) * N(-d1)\n",
    "else:\n",
    "    print(\"Invalid option type.\")\n",
    "    exit()\n",
    "\n",
    "# Output the answer\n",
    "print(f\"S0 = {S0}\\n\"\n",
    "      f\"r = {r}\\n\"\n",
    "      f\"q = {q}\\n\"\n",
    "      f\"sigma = {sigma}\\n\"\n",
    "      f\"T = {T}\\n\"\n",
    "      f\"K = {K}\\n\"\n",
    "      f\"Option type = {option_type.capitalize()}\\n\\n\"\n",
    "      f\"Option price = {round(option_price, 4)}\")\n"
   ]
  }
 ],
 "metadata": {
  "kernelspec": {
   "display_name": "Python 3",
   "language": "python",
   "name": "python3"
  },
  "language_info": {
   "codemirror_mode": {
    "name": "ipython",
    "version": 3
   },
   "file_extension": ".py",
   "mimetype": "text/x-python",
   "name": "python",
   "nbconvert_exporter": "python",
   "pygments_lexer": "ipython3",
   "version": "3.12.0"
  }
 },
 "nbformat": 4,
 "nbformat_minor": 2
}
